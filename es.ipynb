{
 "metadata": {
  "language_info": {
   "codemirror_mode": {
    "name": "ipython",
    "version": 3
   },
   "file_extension": ".py",
   "mimetype": "text/x-python",
   "name": "python",
   "nbconvert_exporter": "python",
   "pygments_lexer": "ipython3",
   "version": 3
  },
  "orig_nbformat": 2
 },
 "nbformat": 4,
 "nbformat_minor": 2,
 "cells": [
  {
   "source": [
    "# Premature Slippage\n",
    "\n",
    "## Intro\n",
    "In this project we took a look at the problems with traditional investment firms and explored\n",
    "\n",
    "1. The Robinhood-Citadell dilemma\n",
    "2. That is slippage and how it occururs\n",
    "3. Traditional Brokeridge Firm Fees\n",
    "\n",
    "\n",
    "## Problem\n",
    "The problems we obseverd included:\n",
    "\n",
    "- Unnecessary costs\n",
    "- Fees\n",
    "- Delays\n",
    "- Paper trail \n",
    "- Internal economic crime\n",
    "- Slippage \n",
    "\n",
    "\n",
    "## Strategy to Address the Problem\n",
    "We propose using blockchain for individule investors to bypass these inefficiencies of the current financial service transactions, creating instant, more secure and anonymous way to make financial investments. \n",
    "\n",
    "## Solution\n",
    "The solution we explored was a crypto brokerage solution that would eliminate issues of a traditional broker, slippage, and the Robinhood - Citadel dilemma. We explored this using a non-fungible token that would be used at the point of generation from each sutomer on every trade. The NFT's would be used to encrypt the order prior to its execution. \n",
    "\n",
    "## Conclusion\n",
    "\n",
    "\n"
   ],
   "cell_type": "markdown",
   "metadata": {}
  },
  {
   "cell_type": "code",
   "execution_count": null,
   "metadata": {},
   "outputs": [],
   "source": []
  }
 ]
}