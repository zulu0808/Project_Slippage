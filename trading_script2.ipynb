{
 "metadata": {
  "language_info": {
   "codemirror_mode": {
    "name": "ipython",
    "version": 3
   },
   "file_extension": ".py",
   "mimetype": "text/x-python",
   "name": "python",
   "nbconvert_exporter": "python",
   "pygments_lexer": "ipython3",
   "version": "3.8.3-final"
  },
  "orig_nbformat": 2,
  "kernelspec": {
   "name": "python3",
   "display_name": "Python 3.8.3 64-bit (conda)",
   "metadata": {
    "interpreter": {
     "hash": "9032458e503ab28519db53568226f597adad35e1b11ccc360aee2243f83ff687"
    }
   }
  }
 },
 "nbformat": 4,
 "nbformat_minor": 2,
 "cells": [
  {
   "cell_type": "code",
   "execution_count": 3,
   "metadata": {},
   "outputs": [],
   "source": [
    "import time\n",
    "import os\n",
    "import alpaca_trade_api as tradeapi\n",
    "import pandas as pd \n",
    "import numpy as np\n",
    "from selenium import webdriver\n",
    "from bs4 import BeautifulSoup\n",
    "import webbrowser\n",
    "\n",
    "%matplotlib inline\n"
   ]
  },
  {
   "cell_type": "code",
   "execution_count": 4,
   "metadata": {},
   "outputs": [
    {
     "output_type": "execute_result",
     "data": {
      "text/plain": [
       "True"
      ]
     },
     "metadata": {},
     "execution_count": 4
    }
   ],
   "source": [
    "from dotenv import load_dotenv\n",
    "load_dotenv()\n",
    "\n",
    "\n"
   ]
  },
  {
   "cell_type": "code",
   "execution_count": 5,
   "metadata": {},
   "outputs": [],
   "source": [
    "alpaca_api_key = os.getenv(\"ALPACA_API_KEY\")\n",
    "alpaca_secret_key = os.getenv(\"ALPACA_SECRET_KEY\")\n",
    "api = tradeapi.REST(alpaca_api_key, alpaca_secret_key, api_version=\"v2\")\n",
    "\n"
   ]
  },
  {
   "cell_type": "code",
   "execution_count": 6,
   "metadata": {},
   "outputs": [],
   "source": [
    "#load in ticker data from alpaca \n",
    "tickers = ['TSLA']\n"
   ]
  },
  {
   "cell_type": "code",
   "execution_count": 7,
   "metadata": {},
   "outputs": [
    {
     "output_type": "stream",
     "name": "stdout",
     "text": [
      "[Bar({'c': 686.32, 'h': 686.32, 'l': 685.7, 'o': 686.14, 't': 1615577820, 'v': 1992}), Bar({'c': 685.68, 'h': 685.93, 'l': 685.61, 'o': 686.3, 't': 1615577880, 'v': 1370})]\n"
     ]
    }
   ],
   "source": [
    "#get price dat for TSLA last 2 closes 15Min interval\n",
    "barset = api.get_barset('TSLA', '1Min', limit=2)\n",
    "tsla_bars = barset['TSLA']\n",
    "print(tsla_bars)"
   ]
  },
  {
   "cell_type": "code",
   "execution_count": 8,
   "metadata": {},
   "outputs": [],
   "source": [
    "previous_tsla_close = tsla_bars[0].c\n",
    "current_tsla_close = tsla_bars[1].c\n",
    "\n"
   ]
  },
  {
   "cell_type": "code",
   "execution_count": 9,
   "metadata": {},
   "outputs": [
    {
     "output_type": "stream",
     "name": "stdout",
     "text": [
      "We will buy\n"
     ]
    }
   ],
   "source": [
    "#create buy order parameters\n",
    "previous_price = previous_tsla_close\n",
    "current_price = current_tsla_close\n",
    "\n",
    "\n",
    "if current_price < previous_price:\n",
    "    print(\"We will buy\")\n",
    "else:\n",
    "    print(\"The price is too damn high\")\n",
    "    \n",
    "    #initiate script to go to remix and transact contract"
   ]
  },
  {
   "cell_type": "code",
   "execution_count": 8,
   "metadata": {},
   "outputs": [],
   "source": [
    "\n",
    "#create scrip to go to remix and click a button \n",
    "\n"
   ]
  },
  {
   "cell_type": "code",
   "execution_count": 9,
   "metadata": {},
   "outputs": [],
   "source": [
    "#create loop to have script run every 10 minutes"
   ]
  },
  {
   "cell_type": "code",
   "execution_count": null,
   "metadata": {},
   "outputs": [],
   "source": []
  }
 ]
}